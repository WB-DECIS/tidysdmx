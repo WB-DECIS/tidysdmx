{
 "cells": [
  {
   "cell_type": "markdown",
   "id": "cd6cba80",
   "metadata": {
    "vscode": {
     "languageId": "plaintext"
    }
   },
   "source": [
    "# Overview"
   ]
  },
  {
   "cell_type": "markdown",
   "id": "1c6fc7f0",
   "metadata": {},
   "source": [
    "The purpose of this notebook is to understand the logic of `fetch_dsd_schema` developed by Tony, then to improve it and make it more robust and finally to extend it to dataflows.\n",
    "\n",
    "**Note: This notebook is for development purposes and it is not intended to be used in production nor to be executed sequentially.**"
   ]
  },
  {
   "cell_type": "markdown",
   "id": "62a7a41a",
   "metadata": {
    "vscode": {
     "languageId": "plaintext"
    }
   },
   "source": [
    "# Setup"
   ]
  },
  {
   "cell_type": "code",
   "execution_count": 11,
   "id": "ff4a8b90",
   "metadata": {},
   "outputs": [],
   "source": [
    "# import pysdmx as px"
   ]
  },
  {
   "cell_type": "code",
   "execution_count": 12,
   "id": "15715332",
   "metadata": {},
   "outputs": [],
   "source": [
    "from pysdmx.io.format import StructureFormat # To extract json format\n",
    "from pysdmx.api import fmr # CLient to connect to FMR\n",
    "from urllib.parse import urljoin"
   ]
  },
  {
   "cell_type": "markdown",
   "id": "96f8d9ab",
   "metadata": {},
   "source": [
    "# parse_artefact_id"
   ]
  },
  {
   "cell_type": "markdown",
   "id": "363e7ce4",
   "metadata": {},
   "source": [
    "## line by line"
   ]
  },
  {
   "cell_type": "code",
   "execution_count": 29,
   "id": "c6a7c8a2",
   "metadata": {},
   "outputs": [],
   "source": [
    "artefact_id = \"WB.DATA360:DS_DATA360(1.3)\""
   ]
  },
  {
   "cell_type": "code",
   "execution_count": 30,
   "id": "f028acb0",
   "metadata": {},
   "outputs": [
    {
     "name": "stdout",
     "output_type": "stream",
     "text": [
      "WB.DATA360\n",
      "DS_DATA360(1.3)\n"
     ]
    }
   ],
   "source": [
    "agency, rest = artefact_id.split(\":\")\n",
    "print(agency)\n",
    "print(rest)"
   ]
  },
  {
   "cell_type": "code",
   "execution_count": 31,
   "id": "9c14dddb",
   "metadata": {},
   "outputs": [
    {
     "name": "stdout",
     "output_type": "stream",
     "text": [
      "DS_DATA360\n",
      "1.3\n"
     ]
    }
   ],
   "source": [
    "id, version = rest.split(\"(\")\n",
    "version = version.rstrip(\")\")\n",
    "print(id)\n",
    "print(version)"
   ]
  },
  {
   "cell_type": "markdown",
   "id": "8a57c249",
   "metadata": {},
   "source": [
    "## function"
   ]
  },
  {
   "cell_type": "code",
   "execution_count": 32,
   "id": "cb3f4756",
   "metadata": {},
   "outputs": [],
   "source": [
    "def parse_artefact_id(artefact_id):\n",
    "    \"\"\"Parses artefact identifier (DSD, Dataflow, Codelist, etc) into its components: agency, id and version.\n",
    "\n",
    "    Args:\n",
    "        artefact_id (str): The identifier of the artefact, typically in the format \"agency:id(version)\".\n",
    "\n",
    "    Returns:\n",
    "        tuple: A tuple containing the agency, id, and version.\n",
    "\n",
    "    Raises:\n",
    "        ValueError: If the artefact_id is not in the expected format.\n",
    "    \"\"\"\n",
    "\n",
    "    try:\n",
    "        agency, rest = artefact_id.split(\":\", 1)\n",
    "        id_part, version_part = rest.split(\"(\", 1)\n",
    "        version = version_part.rstrip(\")\")\n",
    "        return agency, id_part, version\n",
    "    except Exception:\n",
    "        raise ValueError(\"Invalid artefact_id format. Expected format: 'agency:id(version)'\")"
   ]
  },
  {
   "cell_type": "markdown",
   "id": "dccae688",
   "metadata": {
    "vscode": {
     "languageId": "plaintext"
    }
   },
   "source": [
    "# fetch_schema"
   ]
  },
  {
   "cell_type": "markdown",
   "id": "ee3b7b65",
   "metadata": {
    "vscode": {
     "languageId": "plaintext"
    }
   },
   "source": [
    "## Line by line"
   ]
  },
  {
   "cell_type": "code",
   "execution_count": 17,
   "id": "39508e4c",
   "metadata": {},
   "outputs": [],
   "source": [
    "dsd_id = \"WB.DATA360:DS_DATA360(1.3)\""
   ]
  },
  {
   "cell_type": "code",
   "execution_count": 18,
   "id": "54f431b5",
   "metadata": {},
   "outputs": [],
   "source": [
    "# # If I import only the package, I cannot access this object. \n",
    "# # I need to access the class directly.\n",
    "# px.io.format.StructureFormat.FUSION_JSON"
   ]
  },
  {
   "cell_type": "code",
   "execution_count": 19,
   "id": "62b9aa1e",
   "metadata": {},
   "outputs": [
    {
     "data": {
      "text/plain": [
       "<StructureFormat.FUSION_JSON: 'application/vnd.fusion.json'>"
      ]
     },
     "execution_count": 19,
     "metadata": {},
     "output_type": "execute_result"
    }
   ],
   "source": [
    "format = StructureFormat.FUSION_JSON\n",
    "format"
   ]
  },
  {
   "cell_type": "code",
   "execution_count": 20,
   "id": "a622fd80",
   "metadata": {},
   "outputs": [
    {
     "data": {
      "text/plain": [
       "'https://fmrqa.worldbank.org/'"
      ]
     },
     "execution_count": 20,
     "metadata": {},
     "output_type": "execute_result"
    }
   ],
   "source": [
    "# fmr_url = fmr_params[env][\"url\"]\n",
    "fmr_url = 'https://fmrqa.worldbank.org/'\n",
    "fmr_url"
   ]
  },
  {
   "cell_type": "code",
   "execution_count": 21,
   "id": "2c062789",
   "metadata": {},
   "outputs": [
    {
     "data": {
      "text/plain": [
       "'https://fmrqa.worldbank.org/FMR/sdmx/v2/'"
      ]
     },
     "execution_count": 21,
     "metadata": {},
     "output_type": "execute_result"
    }
   ],
   "source": [
    "# Ensure the URL is syntactically valid\n",
    "base_url = urljoin(fmr_url, \"/FMR/sdmx/v2/\")\n",
    "base_url"
   ]
  },
  {
   "cell_type": "code",
   "execution_count": 22,
   "id": "8e812673",
   "metadata": {},
   "outputs": [
    {
     "data": {
      "text/plain": [
       "<pysdmx.api.fmr.RegistryClient at 0x235cfc9ec50>"
      ]
     },
     "execution_count": 22,
     "metadata": {},
     "output_type": "execute_result"
    }
   ],
   "source": [
    "client = fmr.RegistryClient(\n",
    "        base_url,\n",
    "        format=format,\n",
    "    )\n",
    "client"
   ]
  },
  {
   "cell_type": "code",
   "execution_count": 33,
   "id": "74c41587",
   "metadata": {},
   "outputs": [
    {
     "name": "stdout",
     "output_type": "stream",
     "text": [
      "WB.DATA360\n",
      "DS_DATA360\n",
      "1.3\n"
     ]
    }
   ],
   "source": [
    "agency, id, version = parse_artefact_id(dsd_id)\n",
    "print(agency)\n",
    "print(id)\n",
    "print(version)"
   ]
  },
  {
   "cell_type": "markdown",
   "id": "728d6f14",
   "metadata": {},
   "source": [
    "### DSD"
   ]
  },
  {
   "cell_type": "code",
   "execution_count": null,
   "id": "fc95c2cc",
   "metadata": {},
   "outputs": [],
   "source": [
    "# ## Checking URLS for DSDs and Dataflows\n",
    "# # DSDs\n",
    "# https://fmrqa.worldbank.org/FMR/sdmx/v2/structure/datastructure/WB/IFPRI_ASTI/1.0\n",
    "# # Dataflows\n",
    "# https://fmrqa.worldbank.org/FMR/sdmx/v2/structure/dataflow/WB/DF_IFPRI_ASTI/1.0"
   ]
  },
  {
   "cell_type": "code",
   "execution_count": 28,
   "id": "65ffed72",
   "metadata": {},
   "outputs": [
    {
     "name": "stdout",
     "output_type": "stream",
     "text": [
      "context: datastructure, agency: WB.DATA360, id: DS_DATA360, components: 23 components, version: 1.3, artefacts: 23 artefacts\n"
     ]
    }
   ],
   "source": [
    "schema = client.get_schema(\"datastructure\", agency, id, version)\n",
    "print(schema)"
   ]
  },
  {
   "cell_type": "code",
   "execution_count": 26,
   "id": "a23c520a",
   "metadata": {},
   "outputs": [
    {
     "data": {
      "text/plain": [
       "['__annotations__',\n",
       " '__class__',\n",
       " '__copy__',\n",
       " '__delattr__',\n",
       " '__dir__',\n",
       " '__doc__',\n",
       " '__eq__',\n",
       " '__format__',\n",
       " '__ge__',\n",
       " '__getattribute__',\n",
       " '__getstate__',\n",
       " '__gt__',\n",
       " '__hash__',\n",
       " '__init__',\n",
       " '__init_subclass__',\n",
       " '__le__',\n",
       " '__lt__',\n",
       " '__module__',\n",
       " '__ne__',\n",
       " '__new__',\n",
       " '__reduce__',\n",
       " '__reduce_ex__',\n",
       " '__replace__',\n",
       " '__repr__',\n",
       " '__rich_repr__',\n",
       " '__setattr__',\n",
       " '__sizeof__',\n",
       " '__slots__',\n",
       " '__str__',\n",
       " '__struct_config__',\n",
       " '__struct_defaults__',\n",
       " '__struct_encode_fields__',\n",
       " '__struct_fields__',\n",
       " '__subclasshook__',\n",
       " 'agency',\n",
       " 'artefacts',\n",
       " 'components',\n",
       " 'context',\n",
       " 'generated',\n",
       " 'groups',\n",
       " 'id',\n",
       " 'name',\n",
       " 'short_urn',\n",
       " 'version']"
      ]
     },
     "execution_count": 26,
     "metadata": {},
     "output_type": "execute_result"
    }
   ],
   "source": [
    "dir(schema)"
   ]
  },
  {
   "cell_type": "markdown",
   "id": "9a16cca2",
   "metadata": {},
   "source": [
    "### Dataflow"
   ]
  },
  {
   "cell_type": "code",
   "execution_count": 34,
   "id": "a201b92e",
   "metadata": {},
   "outputs": [],
   "source": [
    "dataflow_id = \"WB.DATA360:DF_D360_WB_WDI(1.0)\""
   ]
  },
  {
   "cell_type": "code",
   "execution_count": null,
   "id": "773747a4",
   "metadata": {},
   "outputs": [],
   "source": [
    "# ## Checking URLS for DSDs and Dataflows\n",
    "# # DSDs\n",
    "# https://fmrqa.worldbank.org/FMR/sdmx/v2/structure/datastructure/WB/IFPRI_ASTI/1.0\n",
    "# # Dataflows\n",
    "# https://fmrqa.worldbank.org/FMR/sdmx/v2/structure/dataflow/WB/DF_IFPRI_ASTI/1.0"
   ]
  },
  {
   "cell_type": "code",
   "execution_count": 35,
   "id": "d5b3610f",
   "metadata": {},
   "outputs": [],
   "source": [
    "agency, id, version = parse_artefact_id(dataflow_id)"
   ]
  },
  {
   "cell_type": "code",
   "execution_count": 36,
   "id": "00ee432f",
   "metadata": {},
   "outputs": [
    {
     "name": "stdout",
     "output_type": "stream",
     "text": [
      "context: dataflow, agency: WB.DATA360, id: DF_D360_WB_WDI, components: 23 components, version: 1.0, artefacts: 26 artefacts\n"
     ]
    }
   ],
   "source": [
    "schema = client.get_schema(\"dataflow\", agency, id, version)\n",
    "print(schema)"
   ]
  },
  {
   "cell_type": "code",
   "execution_count": 37,
   "id": "c6e87c1c",
   "metadata": {},
   "outputs": [
    {
     "data": {
      "text/plain": [
       "['__annotations__',\n",
       " '__class__',\n",
       " '__copy__',\n",
       " '__delattr__',\n",
       " '__dir__',\n",
       " '__doc__',\n",
       " '__eq__',\n",
       " '__format__',\n",
       " '__ge__',\n",
       " '__getattribute__',\n",
       " '__getstate__',\n",
       " '__gt__',\n",
       " '__hash__',\n",
       " '__init__',\n",
       " '__init_subclass__',\n",
       " '__le__',\n",
       " '__lt__',\n",
       " '__module__',\n",
       " '__ne__',\n",
       " '__new__',\n",
       " '__reduce__',\n",
       " '__reduce_ex__',\n",
       " '__replace__',\n",
       " '__repr__',\n",
       " '__rich_repr__',\n",
       " '__setattr__',\n",
       " '__sizeof__',\n",
       " '__slots__',\n",
       " '__str__',\n",
       " '__struct_config__',\n",
       " '__struct_defaults__',\n",
       " '__struct_encode_fields__',\n",
       " '__struct_fields__',\n",
       " '__subclasshook__',\n",
       " 'agency',\n",
       " 'artefacts',\n",
       " 'components',\n",
       " 'context',\n",
       " 'generated',\n",
       " 'groups',\n",
       " 'id',\n",
       " 'name',\n",
       " 'short_urn',\n",
       " 'version']"
      ]
     },
     "execution_count": 37,
     "metadata": {},
     "output_type": "execute_result"
    }
   ],
   "source": [
    "dir(schema)"
   ]
  },
  {
   "cell_type": "markdown",
   "id": "d54081c8",
   "metadata": {},
   "source": [
    "### provisionagreement"
   ]
  },
  {
   "cell_type": "code",
   "execution_count": 38,
   "id": "c7278696",
   "metadata": {},
   "outputs": [],
   "source": [
    "provision_id = \"WB.TEST:DF_CSC_EN_FSH_SUST_ZS_WB_TEST_DP_ENV(1.0)\""
   ]
  },
  {
   "cell_type": "code",
   "execution_count": null,
   "id": "f5d359d5",
   "metadata": {},
   "outputs": [],
   "source": [
    "# ## Checking URLS for DSDs and Dataflows\n",
    "# # DSDs\n",
    "# https://fmrqa.worldbank.org/FMR/sdmx/v2/structure/datastructure/WB/IFPRI_ASTI/1.0\n",
    "# # Dataflows\n",
    "# https://fmrqa.worldbank.org/FMR/sdmx/v2/structure/dataflow/WB/DF_IFPRI_ASTI/1.0"
   ]
  },
  {
   "cell_type": "code",
   "execution_count": 39,
   "id": "f42cf884",
   "metadata": {},
   "outputs": [],
   "source": [
    "agency, id, version = parse_artefact_id(provision_id)"
   ]
  },
  {
   "cell_type": "code",
   "execution_count": 40,
   "id": "4ed68cca",
   "metadata": {},
   "outputs": [
    {
     "name": "stdout",
     "output_type": "stream",
     "text": [
      "context: provisionagreement, agency: WB.TEST, id: DF_CSC_EN_FSH_SUST_ZS_WB_TEST_DP_ENV, components: 19 components, version: 1.0, artefacts: 23 artefacts\n"
     ]
    }
   ],
   "source": [
    "schema = client.get_schema(\"provisionagreement\", agency, id, version)\n",
    "print(schema)"
   ]
  },
  {
   "cell_type": "markdown",
   "id": "aed89025",
   "metadata": {},
   "source": [
    "## Function"
   ]
  },
  {
   "cell_type": "code",
   "execution_count": null,
   "id": "4a17f0b4",
   "metadata": {},
   "outputs": [],
   "source": [
    "def fetch_schema(\n",
    "\t\tbase_url:str,\n",
    "\t\tartefact_id: str,\n",
    "\t\tcontext: str = \"datastructure\"):\n",
    "\t\"\"\"Fetches the schema of a specified artefact from an SDMX registry.\n",
    "\t\n",
    "\tArgs:\n",
    "\t\tbase_url (str): The base URL of the FMR.\n",
    "\t\tartefact_id (str): The identifier of the artefact, typically in the format \"agency:id(version)\".\n",
    "\t\tcontext (str, optional): The type of artefact to fetch. Defaults to \"datastructure\". It can also be \"dataflow\" and \"provisionagreement\".\n",
    "\tReturns:\n",
    "\t\tschema: The fetched schema object.\n",
    "\t\"\"\"\n",
    "\tformat = StructureFormat.FUSION_JSON\n",
    "\n",
    "\t# Ensure the URL is syntactically valid\n",
    "\tbase_url = urljoin(base_url, \"/FMR/sdmx/v2/\")\n",
    "\n",
    "\t# Initialize the client\n",
    "\tclient = fmr.RegistryClient(\n",
    "        base_url,\n",
    "        format=format,\n",
    "    )\n",
    "\n",
    "\t# Parse the artefact ID\n",
    "\tagency, id, version = parse_artefact_id(artefact_id)\n",
    "\n",
    "\t# Fetch the schema\n",
    "\tschema = client.get_schema(context, agency, id, version)\n",
    "\t\n",
    "\treturn schema"
   ]
  }
 ],
 "metadata": {
  "kernelspec": {
   "display_name": "venv_tidysdmx",
   "language": "python",
   "name": "python3"
  },
  "language_info": {
   "codemirror_mode": {
    "name": "ipython",
    "version": 3
   },
   "file_extension": ".py",
   "mimetype": "text/x-python",
   "name": "python",
   "nbconvert_exporter": "python",
   "pygments_lexer": "ipython3",
   "version": "3.11.9"
  }
 },
 "nbformat": 4,
 "nbformat_minor": 5
}
